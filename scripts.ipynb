{
 "cells": [
  {
   "cell_type": "markdown",
   "metadata": {},
   "source": [
    "#### Say \"Hello, World!\" With Python"
   ]
  },
  {
   "cell_type": "code",
   "execution_count": null,
   "metadata": {},
   "outputs": [],
   "source": [
    "if __name__ == '__main__':\n",
    "    print(\"Hello, World!\")\n"
   ]
  },
  {
   "cell_type": "markdown",
   "metadata": {},
   "source": [
    "#### Python If-Else"
   ]
  },
  {
   "cell_type": "code",
   "execution_count": null,
   "metadata": {},
   "outputs": [],
   "source": [
    "#!/bin/python3\n",
    "\n",
    "import math\n",
    "import os\n",
    "import random\n",
    "import re\n",
    "import sys\n",
    "\n",
    "\n",
    "\n",
    "if __name__ == '__main__':\n",
    "    n = int(input().strip())\n",
    "if n%2==1 or (n>=6 and n<=20):\n",
    "    print(\"Weird\")\n",
    "elif n>=2 and n<=5 or n>=20:\n",
    "    print(\"Not Weird\")\n"
   ]
  },
  {
   "cell_type": "markdown",
   "metadata": {},
   "source": [
    "#### Arithmetic Operators"
   ]
  },
  {
   "cell_type": "code",
   "execution_count": null,
   "metadata": {},
   "outputs": [],
   "source": [
    "if __name__ == '__main__':\n",
    "    a = int(input())\n",
    "    b = int(input())\n",
    "    \n",
    "    print(a+b)\n",
    "    print(a-b)\n",
    "    print(a*b)\n"
   ]
  },
  {
   "cell_type": "markdown",
   "metadata": {},
   "source": [
    "#### Python: Division"
   ]
  },
  {
   "cell_type": "code",
   "execution_count": null,
   "metadata": {},
   "outputs": [],
   "source": [
    "if __name__ == '__main__':\n",
    "    a = int(input())\n",
    "    b = int(input())\n",
    "    \n",
    "    print(a//b)\n",
    "    print(a/b)\n"
   ]
  },
  {
   "cell_type": "markdown",
   "metadata": {},
   "source": [
    "#### Loops"
   ]
  },
  {
   "cell_type": "code",
   "execution_count": null,
   "metadata": {},
   "outputs": [],
   "source": [
    "if __name__ == '__main__':\n",
    "    n = int(input())\n",
    "    \n",
    "    for i in range (0, n):\n",
    "        print(i**2)\n"
   ]
  },
  {
   "cell_type": "markdown",
   "metadata": {},
   "source": [
    "#### Write a function"
   ]
  },
  {
   "cell_type": "code",
   "execution_count": null,
   "metadata": {},
   "outputs": [],
   "source": [
    "def is_leap(year):\n",
    "    leap = False\n",
    "    \n",
    "    if year%4==0:\n",
    "        leap=True\n",
    "        if year%100==0:\n",
    "            leap=False\n",
    "            if year%400==0:                       \n",
    "                leap=True\n",
    "    return leap\n",
    "\n"
   ]
  },
  {
   "cell_type": "markdown",
   "metadata": {},
   "source": [
    "#### Print Function"
   ]
  },
  {
   "cell_type": "code",
   "execution_count": null,
   "metadata": {},
   "outputs": [],
   "source": [
    "if __name__ == '__main__':\n",
    "    n = int(input())\n",
    "    s = \"\"\n",
    "    for numero in range(1, n+1):\n",
    "        s+=str(numero)\n",
    "    print(s)\n"
   ]
  },
  {
   "cell_type": "markdown",
   "metadata": {},
   "source": [
    "#### Set Mutations"
   ]
  },
  {
   "cell_type": "code",
   "execution_count": null,
   "metadata": {},
   "outputs": [],
   "source": [
    "A_n = int(input())\n",
    "lista = input()\n",
    "lista = [int(n) for n in lista.split(\" \")]\n",
    "A = set(lista)\n",
    "N_n = int(input())\n",
    "\n",
    "for i in range(N_n):\n",
    "    operazione = input()\n",
    "    l = operazione.split(\" \")\n",
    "    operazione = l[0]\n",
    "    numero_elementi = l[1]\n",
    "    altra_lista = input()\n",
    "    altra_lista = altra_lista.split(\" \")\n",
    "    l = [int(n) for n in altra_lista]\n",
    "    B = set(l)\n",
    "    if operazione==\"intersection_update\":\n",
    "        A.intersection_update(B)\n",
    "    elif operazione==\"update\":\n",
    "        A.update(B)\n",
    "    elif operazione==\"symmetric_difference_update\":\n",
    "        A.symmetric_difference_update(B)\n",
    "    elif operazione==\"difference_update\":\n",
    "        A.difference_update(B)\n",
    "    else:\n",
    "        continue\n",
    "\n",
    "print(sum(A))\n",
    "    \n",
    "    \n"
   ]
  },
  {
   "cell_type": "markdown",
   "metadata": {},
   "source": [
    "#### The Captain's Room "
   ]
  },
  {
   "cell_type": "code",
   "execution_count": null,
   "metadata": {},
   "outputs": [],
   "source": [
    "K = int(input())\n",
    "room_list = input().split(\" \")\n",
    "rooms = [int(x) for x in room_list]\n",
    "diz = {}\n",
    "\n",
    "for room in rooms:\n",
    "    if room in diz:\n",
    "        diz[room]+=1\n",
    "    else:\n",
    "        diz[room]=1\n",
    "        \n",
    "for k,v in diz.items():\n",
    "    if v==1:\n",
    "        res=k\n",
    "        break\n",
    "print(res)\n",
    "\n",
    "\n",
    "\"\"\" groups = (len(room_list)-1)/K \"\"\"\n",
    "\"\"\" list_ignore = []\n",
    "\n",
    "for room in room_list:\n",
    "    if room in list_ignore:\n",
    "        continue\n",
    "    else:        \n",
    "        if room_list.count(room)!=K:\n",
    "            res=room\n",
    "            break\n",
    "        else:\n",
    "            list_ignore.append(room)\n",
    "print(res)\n",
    " \"\"\"\n"
   ]
  },
  {
   "cell_type": "markdown",
   "metadata": {},
   "source": [
    "#### The Captain's Room "
   ]
  },
  {
   "cell_type": "code",
   "execution_count": null,
   "metadata": {},
   "outputs": [],
   "source": [
    "K = int(input())\n",
    "room_list = input().split(\" \")\n",
    "rooms = [int(x) for x in room_list]\n",
    "diz = {}\n",
    "\n",
    "for room in rooms:\n",
    "    if room in diz:\n",
    "        diz[room]+=1\n",
    "    else:\n",
    "        diz[room]=1\n",
    "        \n",
    "for k,v in diz.items():\n",
    "    if v==1:\n",
    "        res=k\n",
    "        break\n",
    "print(res)\n"
   ]
  },
  {
   "cell_type": "markdown",
   "metadata": {},
   "source": [
    "#### Check Subset"
   ]
  },
  {
   "cell_type": "code",
   "execution_count": null,
   "metadata": {},
   "outputs": [],
   "source": [
    "T = int(input())\n",
    "\n",
    "for i in range(T):\n",
    "    A_e = int(input())\n",
    "    A = set(map(int, input().split(\" \")))\n",
    "    B_e = int(input())\n",
    "    B = set(map(int, input().split(\" \")))\n",
    "    \n",
    "    if A.union(B)==B:\n",
    "        print(True)\n",
    "    else:\n",
    "        print(False)\n",
    "\n",
    "        \n"
   ]
  },
  {
   "cell_type": "markdown",
   "metadata": {},
   "source": [
    "#### Check Strict Superset"
   ]
  },
  {
   "cell_type": "code",
   "execution_count": null,
   "metadata": {},
   "outputs": [],
   "source": [
    "A = set(map(int, input().split(\" \")))\n",
    "n = int(input())\n",
    "res = True\n",
    "\n",
    "for i in range(n):\n",
    "    ins = set((map(int, input().split(\" \"))))\n",
    "    if A.union(ins)==A and A!=ins:\n",
    "        continue\n",
    "    else:\n",
    "        res = False\n",
    "        break\n",
    "\n",
    "print(res)\n"
   ]
  },
  {
   "cell_type": "markdown",
   "metadata": {},
   "source": [
    "#### List Comprehensions"
   ]
  },
  {
   "cell_type": "code",
   "execution_count": null,
   "metadata": {},
   "outputs": [],
   "source": [
    "if __name__ == '__main__':\n",
    "    x = int(input())\n",
    "    y = int(input())\n",
    "    z = int(input())\n",
    "    n = int(input())\n",
    "    \n",
    "    l_comb = [[i,j,k] for k in range(z+1) for j in range(y+1) for i in range(x+1)]\n",
    "    \n",
    "    res = [comb for comb in l_comb if sum(comb)!=n]\n",
    "    \n",
    "    print(sorted(res))\n"
   ]
  },
  {
   "cell_type": "markdown",
   "metadata": {},
   "source": [
    "#### Find the Runner-Up Score!  "
   ]
  },
  {
   "cell_type": "code",
   "execution_count": null,
   "metadata": {},
   "outputs": [],
   "source": [
    "if __name__ == '__main__':\n",
    "    n = int(input())\n",
    "    arr = map(int, input().split())\n",
    "    \n",
    "    ins = set(arr)\n",
    "    ins.remove(max(ins))\n",
    "    print(max(ins))\n"
   ]
  },
  {
   "cell_type": "markdown",
   "metadata": {},
   "source": [
    "#### Nested Lists"
   ]
  },
  {
   "cell_type": "code",
   "execution_count": null,
   "metadata": {},
   "outputs": [],
   "source": [
    "if __name__ == '__main__':\n",
    "    \n",
    "    diz = {}\n",
    "    \n",
    "    for _ in range(int(input())):\n",
    "        name = input()\n",
    "        score = float(input())\n",
    "        diz[name]=score\n",
    "    \n",
    "    min_score = min(diz.values())\n",
    "    diz2={}\n",
    "    \n",
    "    for k,v in diz.items():\n",
    "        if v!=min_score:\n",
    "             diz2[k]=v\n",
    "    \n",
    "    second_min_score = min(diz2.values())\n",
    "    students=[]\n",
    "    \n",
    "    for k,v in diz2.items():\n",
    "        if v==second_min_score:\n",
    "            students.append(k)\n",
    "    \n",
    "    students = list(sorted(students))\n",
    "    \n",
    "    for s in students:\n",
    "        print(s)\n",
    "        \n"
   ]
  },
  {
   "cell_type": "markdown",
   "metadata": {},
   "source": [
    "#### Nested Lists"
   ]
  },
  {
   "cell_type": "code",
   "execution_count": null,
   "metadata": {},
   "outputs": [],
   "source": [
    "if __name__ == '__main__':\n",
    "    \n",
    "    diz = {}\n",
    "    \n",
    "    for _ in range(int(input())):\n",
    "        name = input()\n",
    "        score = float(input())\n",
    "        diz[name]=score\n",
    "    \n",
    "    min_score = min(diz.values())\n",
    "    diz2={}\n",
    "    \n",
    "    for k,v in diz.items():\n",
    "        if v!=min_score:\n",
    "             diz2[k]=v\n",
    "    \n",
    "    second_min_score = min(diz2.values())\n",
    "    students=[]\n",
    "    \n",
    "    for k,v in diz2.items():\n",
    "        if v==second_min_score:\n",
    "            students.append(k)\n",
    "    \n",
    "    students = list(sorted(students))\n",
    "    \n",
    "    for s in students:\n",
    "        print(s)\n",
    "        \n"
   ]
  },
  {
   "cell_type": "markdown",
   "metadata": {},
   "source": [
    "#### Finding the percentage"
   ]
  },
  {
   "cell_type": "code",
   "execution_count": null,
   "metadata": {},
   "outputs": [],
   "source": [
    "if __name__ == '__main__':\n",
    "    n = int(input())\n",
    "    student_marks = {}\n",
    "    for _ in range(n):\n",
    "        name, *line = input().split()\n",
    "        scores = list(map(float, line))\n",
    "        student_marks[name] = scores\n",
    "    query_name = input()\n",
    "    \n",
    "    res = ((sum(student_marks[query_name])/(len(student_marks[query_name]))))\n",
    "    \n",
    "    print(\"{:.2f}\".format(res))\n"
   ]
  },
  {
   "cell_type": "markdown",
   "metadata": {},
   "source": [
    "#### Incorrect Regex"
   ]
  },
  {
   "cell_type": "code",
   "execution_count": null,
   "metadata": {},
   "outputs": [],
   "source": [
    "import re\n",
    "\n",
    "T = int(input())\n",
    "\n",
    "for i in range(T):\n",
    "    S = input()\n",
    "    try:\n",
    "        re.compile(S)\n",
    "        print(True)\n",
    "    except re.error:\n",
    "        print(False)\n"
   ]
  },
  {
   "cell_type": "markdown",
   "metadata": {},
   "source": [
    "#### sWAP cASE"
   ]
  },
  {
   "cell_type": "code",
   "execution_count": null,
   "metadata": {},
   "outputs": [],
   "source": [
    "def swap_case(s):\n",
    "    res = \"\"\n",
    "    for char in s:\n",
    "        if char.islower():\n",
    "            res+=char.upper()\n",
    "        else:\n",
    "            res+=char.lower()\n",
    "    return res\n",
    "\n"
   ]
  },
  {
   "cell_type": "markdown",
   "metadata": {},
   "source": [
    "#### String Split and Join"
   ]
  },
  {
   "cell_type": "code",
   "execution_count": null,
   "metadata": {},
   "outputs": [],
   "source": [
    "\n",
    "\n",
    "def split_and_join(line):\n",
    "    return \"-\".join(line.split(\" \"))\n",
    "\n",
    "if __name__ == '__main__':\n",
    "    line = input()\n",
    "    result = split_and_join(line)\n",
    "    print(result)\n"
   ]
  },
  {
   "cell_type": "markdown",
   "metadata": {},
   "source": [
    "#### What's Your Name?"
   ]
  },
  {
   "cell_type": "code",
   "execution_count": null,
   "metadata": {},
   "outputs": [],
   "source": [
    "#\n",
    "# Complete the 'print_full_name' function below.\n",
    "#\n",
    "# The function is expected to return a STRING.\n",
    "# The function accepts following parameters:\n",
    "#  1. STRING first\n",
    "#  2. STRING last\n",
    "#\n",
    "\n",
    "def print_full_name(first, last):\n",
    "    print(\"Hello {} {}! You just delved into python.\".format(first, last))\n",
    "\n"
   ]
  },
  {
   "cell_type": "markdown",
   "metadata": {},
   "source": [
    "#### Mutations"
   ]
  },
  {
   "cell_type": "code",
   "execution_count": null,
   "metadata": {},
   "outputs": [],
   "source": [
    "def mutate_string(string, position, character):\n",
    "    list_string = list(string)\n",
    "    list_string[position]=character\n",
    "    res = (\"\").join(list_string)\n",
    "    \n",
    "    return res\n",
    "\n"
   ]
  },
  {
   "cell_type": "markdown",
   "metadata": {},
   "source": [
    "#### Find a string"
   ]
  },
  {
   "cell_type": "code",
   "execution_count": null,
   "metadata": {},
   "outputs": [],
   "source": [
    "def count_substring(string, sub_string):\n",
    "    s = \"\"\n",
    "    res = 0\n",
    "    for i in range(len(string)):\n",
    "        if i+len(sub_string)<=len(string):\n",
    "            for j in range(i, i+len(sub_string)):\n",
    "                s+=string[j]\n",
    "            if s==sub_string:  \n",
    "                res+=1\n",
    "            s=\"\"\n",
    "    return res\n",
    "\n"
   ]
  },
  {
   "cell_type": "markdown",
   "metadata": {},
   "source": [
    "#### String Validators"
   ]
  },
  {
   "cell_type": "code",
   "execution_count": null,
   "metadata": {},
   "outputs": [],
   "source": [
    "if __name__ == '__main__':\n",
    "    s = input()\n",
    "    alpha = False\n",
    "    digit = False\n",
    "    alnum = False\n",
    "    low = False\n",
    "    up = False\n",
    "    \n",
    "    for char in s:\n",
    "        if not alpha:\n",
    "            alpha = char.isalpha()\n",
    "        if not digit:\n",
    "            digit = char.isdigit()\n",
    "        if not alnum:\n",
    "            alnum = char.isalnum()\n",
    "        if not low:\n",
    "            low = char.islower()\n",
    "        if not up:\n",
    "            up = char.isupper()\n",
    "    \n",
    "    print(alnum)\n",
    "    print(alpha)\n",
    "    print(digit)\n",
    "    print(low)\n",
    "    print(up)\n",
    "    \n"
   ]
  },
  {
   "cell_type": "markdown",
   "metadata": {},
   "source": [
    "#### String Validators"
   ]
  },
  {
   "cell_type": "code",
   "execution_count": null,
   "metadata": {},
   "outputs": [],
   "source": [
    "if __name__ == '__main__':\n",
    "    s = input()\n",
    "    alpha = False\n",
    "    digit = False\n",
    "    alnum = False\n",
    "    low = False\n",
    "    up = False\n",
    "    \n",
    "    for char in s:\n",
    "        if not alpha:\n",
    "            alpha = char.isalpha()\n",
    "        if not digit:\n",
    "            digit = char.isdigit()\n",
    "        if not alnum:\n",
    "            alnum = char.isalnum()\n",
    "        if not low:\n",
    "            low = char.islower()\n",
    "        if not up:\n",
    "            up = char.isupper()\n",
    "    \n",
    "    print(alnum)\n",
    "    print(alpha)\n",
    "    print(digit)\n",
    "    print(low)\n",
    "    print(up)\n",
    "    \n"
   ]
  },
  {
   "cell_type": "markdown",
   "metadata": {},
   "source": [
    "#### collections.Counter()"
   ]
  },
  {
   "cell_type": "code",
   "execution_count": null,
   "metadata": {},
   "outputs": [],
   "source": [
    "from collections import Counter\n",
    "\n",
    "X = int(input())\n",
    "list_shoes = list(map(int, input().split(\" \")))\n",
    "diz = Counter(list_shoes)\n",
    "N = int(input())\n",
    "\n",
    "res = 0\n",
    "\n",
    "for i in range(N):\n",
    "    order = input().split(\" \")\n",
    "    shoe_size = int(order[0])\n",
    "    prize = int(order[1])\n",
    "    if diz[shoe_size]>0:\n",
    "        res+=prize\n",
    "        diz[shoe_size]-=1\n",
    "print(res)\n",
    "        \n",
    "    \n"
   ]
  },
  {
   "cell_type": "markdown",
   "metadata": {},
   "source": [
    "#### Calendar Module"
   ]
  },
  {
   "cell_type": "code",
   "execution_count": null,
   "metadata": {},
   "outputs": [],
   "source": [
    "import calendar\n",
    "\n",
    "month, day, year = tuple(map(int, input().split(\" \")))\n",
    "\n",
    "print(calendar.day_name[calendar.weekday(year, month, day)].upper())\n"
   ]
  },
  {
   "cell_type": "markdown",
   "metadata": {},
   "source": [
    "#### Time Delta"
   ]
  },
  {
   "cell_type": "code",
   "execution_count": null,
   "metadata": {},
   "outputs": [],
   "source": [
    "#!/bin/python3\n",
    "\n",
    "from datetime import datetime\n",
    "\n",
    "def time_delta(t1, t2):\n",
    "    format_time='%a %d %b %Y %H:%M:%S %z'\n",
    "\n",
    "    t1tm = datetime.strptime(t1,format_time)\n",
    "    t2tm = datetime.strptime(t2,format_time)\n",
    "  \n",
    "    return str(round(abs((t1tm-t2tm).total_seconds())))\n",
    "\n",
    "T = int(input())\n",
    "\n",
    "for i in range(T):\n",
    "    t1 = input()\n",
    "    t2 = input()\n",
    "    print(time_delta(t1,t2))\n"
   ]
  },
  {
   "cell_type": "markdown",
   "metadata": {},
   "source": [
    "#### Exceptions"
   ]
  },
  {
   "cell_type": "code",
   "execution_count": null,
   "metadata": {},
   "outputs": [],
   "source": [
    "T = int(input())\n",
    "\n",
    "for i in range(T):\n",
    "    try:\n",
    "        a,b = tuple(map(int, input().split(\" \")))\n",
    "        res = a//b\n",
    "        print(res)\n",
    "    except (ValueError, ZeroDivisionError) as error:\n",
    "        print(\"Error Code:\", error)\n",
    "\n",
    "        \n",
    "\n",
    "        \n",
    "        \n"
   ]
  },
  {
   "cell_type": "markdown",
   "metadata": {},
   "source": [
    "#### HTML Parser - Part 2"
   ]
  },
  {
   "cell_type": "code",
   "execution_count": null,
   "metadata": {},
   "outputs": [],
   "source": [
    "from html.parser import HTMLParser\n",
    "\n",
    "from html.parser import HTMLParser\n",
    "\n",
    "class MyHTMLParser(HTMLParser):\n",
    "    def handle_comment(self, data):\n",
    "        if data != '\\n':\n",
    "            if \"\\n\" in data:\n",
    "                print(\">>> Multi-line Comment\")\n",
    "                print(data)\n",
    "            else:\n",
    "                print(\">>> Single-line Comment\")\n",
    "                print(data)\n",
    "    def handle_data(self, data):\n",
    "        if data!= '\\n':\n",
    "            print(f\">>> Data\")\n",
    "            print(data)\n",
    "            \n",
    "html = \"\"       \n",
    "for i in range(int(input())):\n",
    "    html += input().rstrip()\n",
    "    html += '\\n'\n",
    "    \n",
    "parser = MyHTMLParser()\n",
    "parser.feed(html)\n",
    "parser.close()\n"
   ]
  },
  {
   "cell_type": "markdown",
   "metadata": {},
   "source": [
    "#### Zipped!"
   ]
  },
  {
   "cell_type": "code",
   "execution_count": null,
   "metadata": {},
   "outputs": [],
   "source": [
    "N, X = tuple((map(int, input().split(\" \"))))\n",
    "    \n",
    "list_marks=[]\n",
    "\n",
    "for _ in range(X):\n",
    "    marks = input().split(\" \")\n",
    "    list_marks.append(marks)\n",
    "\n",
    "students_marks = list(zip(*list_marks))\n",
    "\n",
    "avg_list = []\n",
    "\n",
    "for tupla in students_marks:\n",
    "    t = tuple(map(float, tupla))\n",
    "    avg = sum(t)/len(t)\n",
    "    print(avg)\n"
   ]
  },
  {
   "cell_type": "markdown",
   "metadata": {},
   "source": [
    "#### Athlete Sort"
   ]
  },
  {
   "cell_type": "code",
   "execution_count": null,
   "metadata": {},
   "outputs": [],
   "source": [
    "#!/bin/python3\n",
    "\n",
    "import math\n",
    "import os\n",
    "import random\n",
    "import re\n",
    "import sys\n",
    "\n",
    "\n",
    "\n",
    "if __name__ == '__main__':\n",
    "    nm = input().split()\n",
    "\n",
    "    n = int(nm[0])\n",
    "\n",
    "    m = int(nm[1])\n",
    "\n",
    "    arr = []\n",
    "\n",
    "    for _ in range(n):\n",
    "        arr.append(list(map(int, input().rstrip().split())))\n",
    "\n",
    "    k = int(input())\n",
    "    \n",
    "    arr_ord = sorted(arr, key=lambda x: x[k])\n",
    "    \n",
    "    for el in arr_ord:\n",
    "        el_string = list(map(str, el))\n",
    "        print(\" \".join(el_string))\n"
   ]
  },
  {
   "cell_type": "markdown",
   "metadata": {},
   "source": [
    "#### ginortS"
   ]
  },
  {
   "cell_type": "code",
   "execution_count": null,
   "metadata": {},
   "outputs": [],
   "source": [
    "S = input()\n",
    "\n",
    "\n",
    "def sort_string(c):\n",
    "    if c.islower():\n",
    "        return (-1, c)\n",
    "    elif c.isupper():\n",
    "        return (0, c)\n",
    "    elif c.isdigit():\n",
    "        if int(c)%2==0:\n",
    "            return (2, c)\n",
    "        else:\n",
    "            return (1, c)\n",
    "\n",
    "res = sorted(S, key=sort_string)\n",
    "print(\"\".join(res))\n"
   ]
  },
  {
   "cell_type": "markdown",
   "metadata": {},
   "source": [
    "#### Map and Lambda Function"
   ]
  },
  {
   "cell_type": "code",
   "execution_count": null,
   "metadata": {},
   "outputs": [],
   "source": [
    "cube = lambda x : x**3\n",
    "\n",
    "def fibonacci(n):\n",
    "    return [fibonacci_list(x) for x in range(n)]    \n",
    "\n",
    "\n",
    "def fibonacci_list(n):\n",
    "    if n==0:\n",
    "        return 0 \n",
    "    elif n==1:\n",
    "        return 1\n",
    "    else:\n",
    "        return fibonacci_list(n-1)+fibonacci_list(n-2)\n",
    "\n",
    "\n"
   ]
  },
  {
   "cell_type": "markdown",
   "metadata": {},
   "source": [
    "#### Map and Lambda Function"
   ]
  },
  {
   "cell_type": "code",
   "execution_count": null,
   "metadata": {},
   "outputs": [],
   "source": [
    "cube = lambda x : x**3\n",
    "\n",
    "def fibonacci(n):\n",
    "    return [fibonacci_list(x) for x in range(n)]    \n",
    "\n",
    "\n",
    "def fibonacci_list(n):\n",
    "    if n==0:\n",
    "        return 0 \n",
    "    elif n==1:\n",
    "        return 1\n",
    "    else:\n",
    "        return fibonacci_list(n-1)+fibonacci_list(n-2)\n",
    "\n",
    "\n"
   ]
  },
  {
   "cell_type": "markdown",
   "metadata": {},
   "source": [
    "#### Validating Email Addresses With a Filter "
   ]
  },
  {
   "cell_type": "code",
   "execution_count": null,
   "metadata": {},
   "outputs": [],
   "source": [
    "import re\n",
    "\n",
    "def fun(s):\n",
    "    if re.search(\"^[\\w-]+@[a-zA-Z0-9]+\\.[a-zA-Z]{1,3}$\", s):\n",
    "        return True\n",
    "    else: \n",
    "        return False\n",
    "    \n",
    "\n",
    "            \n"
   ]
  },
  {
   "cell_type": "markdown",
   "metadata": {},
   "source": [
    "#### Reduce Function"
   ]
  },
  {
   "cell_type": "code",
   "execution_count": null,
   "metadata": {},
   "outputs": [],
   "source": [
    "\n",
    "\n",
    "def product(fracs):\n",
    "    t = reduce(lambda x,y:x*y, fracs)\n",
    "    return (t.numerator, t.denominator)\n",
    "\n"
   ]
  },
  {
   "cell_type": "markdown",
   "metadata": {},
   "source": [
    "#### Detect Floating Point Number"
   ]
  },
  {
   "cell_type": "code",
   "execution_count": null,
   "metadata": {},
   "outputs": [],
   "source": [
    "import re\n",
    "\n",
    "N = int(input())\n",
    "\n",
    "\n",
    "for _ in range(N):\n",
    "    string = input()\n",
    "    if re.search(\"^[-+.]?\\d*[.]\\d*$\", string):\n",
    "        print(True)\n",
    "    else:\n",
    "        print(False)\n",
    "\n",
    "\"\"\" ^[-+]?\\d*[.]\\d*$ \"\"\"\n"
   ]
  },
  {
   "cell_type": "markdown",
   "metadata": {},
   "source": [
    "#### Detect Floating Point Number"
   ]
  },
  {
   "cell_type": "code",
   "execution_count": null,
   "metadata": {},
   "outputs": [],
   "source": [
    "import re\n",
    "\n",
    "N = int(input())\n",
    "\n",
    "\n",
    "for _ in range(N):\n",
    "    string = input()\n",
    "    if re.search(\"^[-+]?\\d*[.]\\d*$\", string):\n",
    "        print(True)\n",
    "    else:\n",
    "        print(False)\n",
    "\n",
    "\"\"\" ^[-+]?\\d*[.]\\d*$ \"\"\"\n"
   ]
  },
  {
   "cell_type": "markdown",
   "metadata": {},
   "source": [
    "#### Re.split()"
   ]
  },
  {
   "cell_type": "code",
   "execution_count": null,
   "metadata": {},
   "outputs": [],
   "source": [
    "regex_pattern = r\"[,.]\"\t# Do not delete 'r'.\n",
    "\n"
   ]
  },
  {
   "cell_type": "markdown",
   "metadata": {},
   "source": [
    "#### Re.findall() & Re.finditer()"
   ]
  },
  {
   "cell_type": "code",
   "execution_count": null,
   "metadata": {},
   "outputs": [],
   "source": [
    "import re\n",
    "\n",
    "S = input()\n",
    "\n",
    "list_res = re.findall(r'(?<=[^aeiou])([aeiou]{2,})(?=[^aeiou])', S, flags=re.IGNORECASE)\n",
    "\n",
    "if len(list_res)==0:\n",
    "    print(-1)\n",
    "else:\n",
    "    for w in list_res:\n",
    "        print(w)\n"
   ]
  },
  {
   "cell_type": "markdown",
   "metadata": {},
   "source": [
    "#### Re.start() & Re.end()"
   ]
  },
  {
   "cell_type": "code",
   "execution_count": null,
   "metadata": {},
   "outputs": [],
   "source": [
    "import re\n",
    "\n",
    "S = input()\n",
    "k = input()\n",
    "\n",
    "if re.search(r'{}'.format(k), S):\n",
    "    for w in re.finditer(r\"(?=({}))\".format(k), S):\n",
    "        print(\"({}, {})\".format(w.start(), w.end(1)-1))\n",
    "else:\n",
    "    print((-1, -1))\n"
   ]
  },
  {
   "cell_type": "markdown",
   "metadata": {},
   "source": [
    "#### Regex Substitution"
   ]
  },
  {
   "cell_type": "code",
   "execution_count": null,
   "metadata": {},
   "outputs": [],
   "source": [
    "import re\n",
    "\n",
    "N = int(input())\n",
    "\n",
    "for _ in range(N):\n",
    "    t = input()\n",
    "    res = re.sub(r\"(?<=\\s)(&&)(?=\\s)\", \"and\", t)\n",
    "    res2 = re.sub(r\"(?<=\\s)(\\|\\|)(?=\\s)\", \"or\", res)\n",
    "    print(res2)\n"
   ]
  },
  {
   "cell_type": "markdown",
   "metadata": {},
   "source": [
    "#### Validating Roman Numerals"
   ]
  },
  {
   "cell_type": "code",
   "execution_count": null,
   "metadata": {},
   "outputs": [],
   "source": [
    "regex_pattern = r\"^M{0,3}(CM|CD|D?C{0,3})(XC|XL|L?X{0,3})?(IX|IV|V?I{0,3})?$\"\t\n",
    "\n"
   ]
  },
  {
   "cell_type": "markdown",
   "metadata": {},
   "source": [
    "#### Validating phone numbers"
   ]
  },
  {
   "cell_type": "code",
   "execution_count": null,
   "metadata": {},
   "outputs": [],
   "source": [
    "import re\n",
    "\n",
    "N = int(input())\n",
    "\n",
    "pattern = \"[789][0-9]{9}$\"\n",
    "\n",
    "for _ in range(N):\n",
    "    number = input()\n",
    "    if re.match(pattern, number):\n",
    "        print(\"YES\")\n",
    "    else:\n",
    "        print(\"NO\")\n"
   ]
  },
  {
   "cell_type": "markdown",
   "metadata": {},
   "source": [
    "#### Validating and Parsing Email Addresses"
   ]
  },
  {
   "cell_type": "code",
   "execution_count": null,
   "metadata": {},
   "outputs": [],
   "source": [
    "import re\n",
    "import email.utils\n",
    "\n",
    "pattern = \"(<[a-zA-Z]{1,})([\\.\\-\\_A-zA-Z0-9]*)(\\@)([a-zA-Z]*)(\\.)([a-zA-Z]{1,3}>)\"\n",
    "\n",
    "N = int(input())\n",
    "\n",
    "for _ in range(N):\n",
    "    name, email = tuple(input().split())\n",
    "    \n",
    "    if bool(re.search(pattern, email)):\n",
    "        print(name, email)    \n"
   ]
  },
  {
   "cell_type": "markdown",
   "metadata": {},
   "source": [
    "#### Hex Color Code"
   ]
  },
  {
   "cell_type": "code",
   "execution_count": null,
   "metadata": {},
   "outputs": [],
   "source": [
    "import re\n",
    "\n",
    "pattern = r\"([#][abcdefABCDEF0-9]{6})|([#][abcdefABCDEF0-9]{3})\"\n",
    "\n",
    "N = int(input())\n",
    "\n",
    "text = \"\"\n",
    "\n",
    "for _ in range(N):\n",
    "    text+=input() \n",
    "\n",
    "valid = [p.split('}')[0] for p in text.split('{') if '}' in p]\n",
    "\n",
    "for string in valid:\n",
    "    res = re.findall(pattern, string)\n",
    "    for tupla in res:\n",
    "        for el in tupla:\n",
    "            if el:\n",
    "                print(el)\n",
    "    \n",
    "\n",
    "\n",
    "    \n"
   ]
  },
  {
   "cell_type": "markdown",
   "metadata": {},
   "source": [
    "#### HTML Parser - Part 1"
   ]
  },
  {
   "cell_type": "code",
   "execution_count": null,
   "metadata": {},
   "outputs": [],
   "source": [
    "from html.parser import HTMLParser\n",
    "\n",
    "class MyHTMLParser(HTMLParser):\n",
    "    def handle_starttag(self, tag, attrs):\n",
    "        print(\"Start : {}\".format(tag))\n",
    "        for name,value in attrs:\n",
    "            print(\"-> {} > {}\".format(name, value))\n",
    "\n",
    "    def handle_startendtag(self, tag, attrs):\n",
    "        print(\"Empty : {}\".format(tag))\n",
    "        for name,value in attrs:\n",
    "            print(\"-> {} > {}\".format(name, value))\n",
    "\n",
    "    def handle_endtag(self, tag):\n",
    "        print(\"End   : {}\".format(tag))\n",
    "\n",
    "\n",
    "parser = MyHTMLParser()\n",
    "\n",
    "N = int(input())\n",
    "\n",
    "for _ in range(N):\n",
    "    parser.feed(input())\n",
    "parser.close()\n"
   ]
  },
  {
   "cell_type": "markdown",
   "metadata": {},
   "source": [
    "#### Detect HTML Tags, Attributes and Attribute Values"
   ]
  },
  {
   "cell_type": "code",
   "execution_count": null,
   "metadata": {},
   "outputs": [],
   "source": [
    "from html.parser import HTMLParser\n",
    "\n",
    "class MyHtmlParser(HTMLParser):\n",
    "    def handle_starttag(self, tag, attrs):\n",
    "        print(tag)\n",
    "        for name, value in attrs:\n",
    "            print(\"->\", name, \">\", value)\n",
    "\n",
    "\n",
    "parser = MyHtmlParser()\n",
    "\n",
    "N = int(input())\n",
    "\n",
    "for _ in range(N):\n",
    "    line = input()\n",
    "    parser.feed(line)\n",
    "parser.close()\n"
   ]
  },
  {
   "cell_type": "markdown",
   "metadata": {},
   "source": [
    "#### Validating UID "
   ]
  },
  {
   "cell_type": "code",
   "execution_count": null,
   "metadata": {},
   "outputs": [],
   "source": [
    "import re\n",
    "\n",
    "pattern = \"[A-Z]{2}[0-9]{3}[a-zA-Z0-9]{5}\"\n",
    "\n",
    "T = int(input())\n",
    "\n",
    "for _ in range(T):\n",
    "    uid = input()\n",
    "    if len(uid)!=10:\n",
    "        print(\"Invalid\")\n",
    "        continue\n",
    "    chars = set(re.findall(\"\\w\", uid))\n",
    "    if len(chars)!=10:\n",
    "        print(\"Invalid\")\n",
    "        continue\n",
    "    if re.search(\"[^\\w]\", uid)!=None:\n",
    "        print(\"Invalid\")\n",
    "        continue\n",
    "    digits = re.findall(\"[0-9]\", uid)\n",
    "    if len(digits)<3:\n",
    "        print(\"Invalid\")\n",
    "        continue\n",
    "    uppers = re.findall(\"[A-Z]\", uid)\n",
    "    if len(uppers)<2:\n",
    "        print(\"Invalid\")\n",
    "        continue\n",
    "    print(\"Valid\")\n"
   ]
  },
  {
   "cell_type": "markdown",
   "metadata": {},
   "source": [
    "#### Validating Credit Card Numbers"
   ]
  },
  {
   "cell_type": "code",
   "execution_count": null,
   "metadata": {},
   "outputs": [],
   "source": [
    "N = int(input())\n",
    "\n",
    "starts = \"456\"\n",
    "\n",
    "for _ in range(N):\n",
    "    card_n = input()\n",
    "    if card_n[0] not in starts:\n",
    "        print(\"Invalid\")\n",
    "        continue\n",
    "    if \"-\" in card_n:\n",
    "        if card_n[4]!=\"-\" or card_n[9]!=\"-\" or card_n[14]!=\"-\":\n",
    "            print(\"Invalid\")\n",
    "            continue\n",
    "        if len(card_n)!=19:\n",
    "            print(\"Invalid\")\n",
    "            continue\n",
    "    else:\n",
    "        if len(card_n)!=16:\n",
    "            print(\"Invalid\")\n",
    "            continue\n",
    "    card_n = card_n.replace(\"-\",\"\")\n",
    "    for n in card_n:\n",
    "        if not n.isdigit():\n",
    "            print(\"Invalid\")\n",
    "            continue\n",
    "    valid = True\n",
    "    for i in range(len(card_n)):\n",
    "        group = card_n[i:i+4]\n",
    "        if len(group)!=4:\n",
    "            break\n",
    "        numbers = set(group)\n",
    "        if len(numbers)==1:\n",
    "            valid = False\n",
    "            break\n",
    "    if not valid:\n",
    "        print(\"Invalid\")\n",
    "        continue\n",
    "    print(\"Valid\")\n",
    "        \n",
    "    \n"
   ]
  },
  {
   "cell_type": "markdown",
   "metadata": {},
   "source": [
    "#### Validating Postal Codes"
   ]
  },
  {
   "cell_type": "code",
   "execution_count": null,
   "metadata": {},
   "outputs": [],
   "source": [
    "regex_integer_in_range = r\"^[1-1][0-9][0-9][0-9][0-9][0-9]$|^[2-9][0-9][0-9][0-9][0-9][0-9]$\"\n",
    "\n",
    "regex_alternating_repetitive_digit_pair = r\"(\\d)(?=\\d\\1)\"\n",
    "\n"
   ]
  },
  {
   "cell_type": "markdown",
   "metadata": {},
   "source": [
    "#### Birthday Cake Candles"
   ]
  },
  {
   "cell_type": "code",
   "execution_count": null,
   "metadata": {},
   "outputs": [],
   "source": [
    "#!/bin/python3\n",
    "\n",
    "import math\n",
    "import os\n",
    "import random\n",
    "import re\n",
    "import sys\n",
    "\n",
    "#\n",
    "# Complete the 'birthdayCakeCandles' function below.\n",
    "#\n",
    "# The function is expected to return an INTEGER.\n",
    "# The function accepts INTEGER_ARRAY candles as parameter.\n",
    "#\n",
    "\n",
    "def birthdayCakeCandles(candles):\n",
    "    tallest = max(candles)\n",
    "    res = candles.count(tallest)\n",
    "    return res\n",
    "\n",
    "if __name__ == '__main__':\n",
    "    fptr = open(os.environ['OUTPUT_PATH'], 'w')\n",
    "\n",
    "    candles_count = int(input().strip())\n",
    "\n",
    "    candles = list(map(int, input().rstrip().split()))\n",
    "\n",
    "    result = birthdayCakeCandles(candles)\n",
    "\n",
    "    fptr.write(str(result) + '\\n')\n",
    "\n",
    "    fptr.close()\n"
   ]
  },
  {
   "cell_type": "markdown",
   "metadata": {},
   "source": [
    "#### Number Line Jumps"
   ]
  },
  {
   "cell_type": "code",
   "execution_count": null,
   "metadata": {},
   "outputs": [],
   "source": [
    "#!/bin/python3\n",
    "\n",
    "import math\n",
    "import os\n",
    "import random\n",
    "import re\n",
    "import sys\n",
    "\n",
    "#\n",
    "# Complete the 'kangaroo' function below.\n",
    "#\n",
    "# The function is expected to return a STRING.\n",
    "# The function accepts following parameters:\n",
    "#  1. INTEGER x1\n",
    "#  2. INTEGER v1\n",
    "#  3. INTEGER x2\n",
    "#  4. INTEGER v2\n",
    "#\n",
    "\n",
    "def kangaroo(x1, v1, x2, v2):\n",
    "    if (v2>v1):\n",
    "        return \"NO\"\n",
    "    else:\n",
    "        step = 1\n",
    "        for _ in range(x2-x1):\n",
    "            if x1+v1*step==x2+v2*step:\n",
    "                return \"YES\"\n",
    "            step+=1\n",
    "        return \"NO\"\n",
    "\n",
    "if __name__ == '__main__':\n",
    "    fptr = open(os.environ['OUTPUT_PATH'], 'w')\n",
    "\n",
    "    first_multiple_input = input().rstrip().split()\n",
    "\n",
    "    x1 = int(first_multiple_input[0])\n",
    "\n",
    "    v1 = int(first_multiple_input[1])\n",
    "\n",
    "    x2 = int(first_multiple_input[2])\n",
    "\n",
    "    v2 = int(first_multiple_input[3])\n",
    "\n",
    "    result = kangaroo(x1, v1, x2, v2)\n",
    "\n",
    "    fptr.write(result + '\\n')\n",
    "\n",
    "    fptr.close()\n"
   ]
  },
  {
   "cell_type": "markdown",
   "metadata": {},
   "source": [
    "#### Viral Advertising"
   ]
  },
  {
   "cell_type": "code",
   "execution_count": null,
   "metadata": {},
   "outputs": [],
   "source": [
    "#!/bin/python3\n",
    "\n",
    "import math\n",
    "import os\n",
    "import random\n",
    "import re\n",
    "import sys\n",
    "\n",
    "#\n",
    "# Complete the 'viralAdvertising' function below.\n",
    "#\n",
    "# The function is expected to return an INTEGER.\n",
    "# The function accepts INTEGER n as parameter.\n",
    "#\n",
    "\n",
    "def viralAdvertising(n):\n",
    "    shared = 5\n",
    "    likes = 2\n",
    "    cumulative = 2\n",
    "    for _ in range(n-1):\n",
    "        shared = likes*3\n",
    "        likes = shared//2\n",
    "        cumulative+=likes\n",
    "    return cumulative\n",
    "\n",
    "if __name__ == '__main__':\n",
    "    fptr = open(os.environ['OUTPUT_PATH'], 'w')\n",
    "\n",
    "    n = int(input().strip())\n",
    "\n",
    "    result = viralAdvertising(n)\n",
    "\n",
    "    fptr.write(str(result) + '\\n')\n",
    "\n",
    "    fptr.close()\n"
   ]
  },
  {
   "cell_type": "markdown",
   "metadata": {},
   "source": [
    "#### Recursive Digit Sum"
   ]
  },
  {
   "cell_type": "code",
   "execution_count": null,
   "metadata": {},
   "outputs": [],
   "source": [
    "#!/bin/python3\n",
    "\n",
    "import math\n",
    "import os\n",
    "import random\n",
    "import re\n",
    "import sys\n",
    "\n",
    "#\n",
    "# Complete the 'superDigit' function below.\n",
    "#\n",
    "# The function is expected to return an INTEGER.\n",
    "# The function accepts following parameters:\n",
    "#  1. STRING n\n",
    "#  2. INTEGER k\n",
    "#\n",
    "\n",
    "def superDigit(n, k):\n",
    "    res = int(n)*k%9\n",
    "    if res==0:\n",
    "        return 9\n",
    "    else:\n",
    "        return res    \n",
    "\n",
    "if __name__ == '__main__':\n",
    "    fptr = open(os.environ['OUTPUT_PATH'], 'w')\n",
    "\n",
    "    first_multiple_input = input().rstrip().split()\n",
    "\n",
    "    n = first_multiple_input[0]\n",
    "\n",
    "    k = int(first_multiple_input[1])\n",
    "\n",
    "    result = superDigit(n, k)\n",
    "\n",
    "    fptr.write(str(result) + '\\n')\n",
    "\n",
    "    fptr.close()\n"
   ]
  },
  {
   "cell_type": "markdown",
   "metadata": {},
   "source": [
    "#### Insertion Sort - Part 1"
   ]
  },
  {
   "cell_type": "code",
   "execution_count": null,
   "metadata": {},
   "outputs": [],
   "source": [
    "#!/bin/python3\n",
    "\n",
    "import math\n",
    "import os\n",
    "import random\n",
    "import re\n",
    "import sys\n",
    "\n",
    "#\n",
    "# Complete the 'insertionSort1' function below.\n",
    "#\n",
    "# The function accepts following parameters:\n",
    "#  1. INTEGER n\n",
    "#  2. INTEGER_ARRAY arr\n",
    "#\n",
    "\n",
    "def insertionSort1(n, arr):\n",
    "    value = arr[n-1]\n",
    "    \n",
    "    for j in range(n-1, -1, -1):\n",
    "        if value<arr[j-1] and j>0:\n",
    "            arr[j] = arr[j-1]\n",
    "            print(\" \".join(list(map(str, arr))))\n",
    "        else: \n",
    "            arr[j] = value\n",
    "            print(\" \".join(list(map(str, arr))))\n",
    "            break \n",
    "\n",
    "if __name__ == '__main__':\n",
    "    n = int(input().strip())\n",
    "\n",
    "    arr = list(map(int, input().rstrip().split()))\n",
    "\n",
    "    insertionSort1(n, arr)\n"
   ]
  },
  {
   "cell_type": "markdown",
   "metadata": {},
   "source": [
    "#### Insertion Sort - Part 2"
   ]
  },
  {
   "cell_type": "code",
   "execution_count": null,
   "metadata": {},
   "outputs": [],
   "source": [
    "#!/bin/python3\n",
    "\n",
    "import math\n",
    "import os\n",
    "import random\n",
    "import re\n",
    "import sys\n",
    "\n",
    "#\n",
    "# Complete the 'insertionSort2' function below.\n",
    "#\n",
    "# The function accepts following parameters:\n",
    "#  1. INTEGER n\n",
    "#  2. INTEGER_ARRAY arr\n",
    "#\n",
    "\n",
    "def insertionSort2(n, arr):\n",
    "    if n>1:\n",
    "        insertionSort2(n-1, arr)\n",
    "        value = arr[n-1]\n",
    "        j=n-2\n",
    "        while arr[j]>value and j>=0: \n",
    "            arr[j+1]=arr[j]\n",
    "            j-=1\n",
    "        arr[j+1]=value\n",
    "        print(\" \".join(list(map(str, arr))))\n",
    "        \n",
    "\n",
    "if __name__ == '__main__':\n",
    "    n = int(input().strip())\n",
    "\n",
    "    arr = list(map(int, input().rstrip().split()))\n",
    "\n",
    "    insertionSort2(n, arr)\n"
   ]
  },
  {
   "cell_type": "markdown",
   "metadata": {},
   "source": [
    "#### XML 1 - Find the Score"
   ]
  },
  {
   "cell_type": "code",
   "execution_count": null,
   "metadata": {},
   "outputs": [],
   "source": [
    "\n",
    "\n",
    "def get_attr_number2(node, n_attr):\n",
    "    n_attr += len(node.attrib)    \n",
    "    for tag in node:\n",
    "        n_attr+=get_attr_number(tag)\n",
    "    return n_attr\n",
    "\n",
    "def get_attr_number(node):\n",
    "    return get_attr_number2(node, 0)\n",
    "    \n",
    "\n"
   ]
  },
  {
   "cell_type": "markdown",
   "metadata": {},
   "source": [
    "#### XML2 - Find the Maximum Depth"
   ]
  },
  {
   "cell_type": "code",
   "execution_count": null,
   "metadata": {},
   "outputs": [],
   "source": [
    "\n",
    "\n",
    "maxdepth = 0\n",
    "def depth(elem, level):\n",
    "    global maxdepth\n",
    "    if (level==maxdepth):\n",
    "        maxdepth+=1\n",
    "    for tag in elem:\n",
    "        depth(tag, level+1) \n",
    "\n"
   ]
  },
  {
   "cell_type": "markdown",
   "metadata": {},
   "source": [
    "#### Standardize Mobile Number Using Decorators"
   ]
  },
  {
   "cell_type": "code",
   "execution_count": null,
   "metadata": {},
   "outputs": [],
   "source": [
    "def wrapper(f):\n",
    "    def fun(l):\n",
    "        prefix = \"+91\"\n",
    "        list_ = []\n",
    "        for n in l:\n",
    "            res = prefix+\" \"+n[-10:-5]+\" \"+n[-5:]\n",
    "            list_.append(res)\n",
    "        f(list_)\n",
    "    return fun\n",
    "\n"
   ]
  },
  {
   "cell_type": "markdown",
   "metadata": {},
   "source": [
    "#### Decorators 2 - Name Directory"
   ]
  },
  {
   "cell_type": "code",
   "execution_count": null,
   "metadata": {},
   "outputs": [],
   "source": [
    "\n",
    "\n",
    "def person_lister(f):\n",
    "    def inner(people):\n",
    "        l=[]\n",
    "        res = sorted(people, key=ordina)\n",
    "        for person in res:\n",
    "           l.append(f(person))\n",
    "        return l\n",
    "    return inner\n",
    "\n",
    "def ordina(person):\n",
    "    return int(person[2])\n",
    "    \n"
   ]
  },
  {
   "cell_type": "markdown",
   "metadata": {},
   "source": [
    "#### Arrays"
   ]
  },
  {
   "cell_type": "code",
   "execution_count": null,
   "metadata": {},
   "outputs": [],
   "source": [
    "\n",
    "\n",
    "def arrays(arr):\n",
    "    a = numpy.array(arr, float)\n",
    "    return numpy.array(list(reversed(a)))\n",
    "\n"
   ]
  },
  {
   "cell_type": "markdown",
   "metadata": {},
   "source": [
    "#### Shape and Reshape"
   ]
  },
  {
   "cell_type": "code",
   "execution_count": null,
   "metadata": {},
   "outputs": [],
   "source": [
    "import numpy\n",
    "\n",
    "inp = input().split()\n",
    "arr = list(map(int, inp))\n",
    "\n",
    "np_arr = numpy.array(arr)\n",
    "\n",
    "print(numpy.reshape(np_arr, (3,3)))\n",
    "\n",
    "\n",
    "\n",
    "\n",
    "\n"
   ]
  },
  {
   "cell_type": "markdown",
   "metadata": {},
   "source": [
    "#### Transpose and Flatten"
   ]
  },
  {
   "cell_type": "code",
   "execution_count": null,
   "metadata": {},
   "outputs": [],
   "source": [
    "import numpy\n",
    "\n",
    "N, M = tuple(map(int, input().split()))\n",
    "\n",
    "matrix = []\n",
    "\n",
    "for _ in range(N):\n",
    "    column = list(map(int, input().split()))\n",
    "    matrix.append(column)\n",
    "\n",
    "np_arr = numpy.array(matrix)\n",
    "print(numpy.transpose(np_arr))\n",
    "print(np_arr.flatten())\n",
    "    \n",
    "    \n",
    "         \n"
   ]
  },
  {
   "cell_type": "markdown",
   "metadata": {},
   "source": [
    "#### Concatenate"
   ]
  },
  {
   "cell_type": "code",
   "execution_count": null,
   "metadata": {},
   "outputs": [],
   "source": [
    "import numpy\n",
    "\n",
    "N, M, P = tuple(list(map(int, input().split())))\n",
    "\n",
    "matrix_np=[]\n",
    "matrix_mp=[]\n",
    "\n",
    "for _ in range(N):\n",
    "    column = list(map(int, input().split()))\n",
    "    matrix_np.append(column)\n",
    "\n",
    "for _ in range(M):\n",
    "    column = list(map(int, input().split()))\n",
    "    matrix_mp.append(column)\n",
    "\n",
    "np_np = numpy.array(matrix_np)\n",
    "np_mp = numpy.array(matrix_mp)\n",
    "\n",
    "print(numpy.concatenate((np_np, np_mp), axis=0))\n"
   ]
  },
  {
   "cell_type": "markdown",
   "metadata": {},
   "source": [
    "#### Zeros and Ones"
   ]
  },
  {
   "cell_type": "code",
   "execution_count": null,
   "metadata": {},
   "outputs": [],
   "source": [
    "import numpy\n",
    "\n",
    "shapes = tuple(map(int,input().split()))\n",
    "\n",
    "print(numpy.zeros((shapes), dtype=numpy.int))\n",
    "print(numpy.ones((shapes), dtype=numpy.int))\n"
   ]
  },
  {
   "cell_type": "markdown",
   "metadata": {},
   "source": [
    "#### Eye and Identity"
   ]
  },
  {
   "cell_type": "code",
   "execution_count": null,
   "metadata": {},
   "outputs": [],
   "source": [
    "import numpy\n",
    "numpy.set_printoptions(legacy='1.13')\n",
    "\n",
    "N, M = tuple(list(map(int, input().split())))\n",
    "\n",
    "print(numpy.eye(N, M, k=0))\n"
   ]
  },
  {
   "cell_type": "markdown",
   "metadata": {},
   "source": [
    "#### Array Mathematics"
   ]
  },
  {
   "cell_type": "code",
   "execution_count": null,
   "metadata": {},
   "outputs": [],
   "source": [
    "import numpy\n",
    "\n",
    "N, M = tuple(map(int, input().split()))\n",
    "\n",
    "A=[]\n",
    "B=[]\n",
    "\n",
    "for _ in range(N):\n",
    "    A.append(numpy.array(list(map(int, input().split()))))\n",
    "    \n",
    "for _ in range(N):\n",
    "    B.append(numpy.array(list(map(int, input().split()))))\n",
    "\n",
    "print(numpy.add(A,B))\n",
    "print(numpy.subtract(A,B))\n",
    "print(numpy.multiply(A,B))\n",
    "print(numpy.floor_divide(A,B))\n",
    "print(numpy.mod(A,B))\n",
    "print(numpy.power(A,B))\n",
    "\n",
    "\n",
    "\n",
    "\n",
    "\n"
   ]
  },
  {
   "cell_type": "markdown",
   "metadata": {},
   "source": [
    "#### Floor, Ceil and Rint"
   ]
  },
  {
   "cell_type": "code",
   "execution_count": null,
   "metadata": {},
   "outputs": [],
   "source": [
    "import numpy\n",
    "numpy.set_printoptions(legacy='1.13')\n",
    "\n",
    "A = numpy.array(list(map(float, input().split())))\n",
    "\n",
    "print(numpy.floor(A))\n",
    "print(numpy.ceil(A))\n",
    "print(numpy.rint(A))\n"
   ]
  },
  {
   "cell_type": "markdown",
   "metadata": {},
   "source": [
    "#### Sum and Prod"
   ]
  },
  {
   "cell_type": "code",
   "execution_count": null,
   "metadata": {},
   "outputs": [],
   "source": [
    "import numpy\n",
    "\n",
    "N, M = tuple(map(int, input().split()))\n",
    "\n",
    "matrix=[]\n",
    "\n",
    "for _ in range(N):\n",
    "    row = list(map(int, input().split()))\n",
    "    matrix.append(row)\n",
    "\n",
    "sum_matr = numpy.sum(matrix, axis=0)\n",
    "print(numpy.prod(sum_matr))\n"
   ]
  },
  {
   "cell_type": "markdown",
   "metadata": {},
   "source": [
    "#### Min and Max"
   ]
  },
  {
   "cell_type": "code",
   "execution_count": null,
   "metadata": {},
   "outputs": [],
   "source": [
    "import numpy\n",
    "\n",
    "N, M = tuple(map(int, input().split()))\n",
    "\n",
    "matrix = []\n",
    "\n",
    "for _ in range(N):\n",
    "    row = list(map(int, input().split()))\n",
    "    matrix.append(row)\n",
    "    \n",
    "min_matr = numpy.min(matrix, axis=1)\n",
    "print(numpy.max(min_matr))\n",
    "\n"
   ]
  },
  {
   "cell_type": "markdown",
   "metadata": {},
   "source": [
    "#### Mean, Var, and Std"
   ]
  },
  {
   "cell_type": "code",
   "execution_count": null,
   "metadata": {},
   "outputs": [],
   "source": [
    "import numpy\n",
    "\n",
    "N, M = tuple(map(int, input().split()))\n",
    "\n",
    "A = []\n",
    "for _ in range(N):\n",
    "    row = list(map(int, input().split()))\n",
    "    A.append(row)\n",
    "\n",
    "A_np = numpy.array(A)\n",
    "    \n",
    "print(numpy.mean(A, axis=1))\n",
    "print(numpy.var(A, axis=0))\n",
    "print(round(numpy.std(A), 11))\n",
    "\n"
   ]
  },
  {
   "cell_type": "markdown",
   "metadata": {},
   "source": [
    "#### Dot and Cross"
   ]
  },
  {
   "cell_type": "code",
   "execution_count": null,
   "metadata": {},
   "outputs": [],
   "source": [
    "import numpy\n",
    "\n",
    "N = int(input())\n",
    "\n",
    "A=[]\n",
    "B=[]\n",
    "for _ in range(N):\n",
    "   row = list(map(int, input().split()))\n",
    "   A.append(row)\n",
    "\n",
    "for _ in range(N):\n",
    "   row = list(map(int, input().split()))\n",
    "   B.append(row)\n",
    "   \n",
    "A_np = numpy.array(A)\n",
    "B_np = numpy.array(B)\n",
    "\n",
    "print(numpy.dot(A_np, B_np))\n"
   ]
  },
  {
   "cell_type": "markdown",
   "metadata": {},
   "source": [
    "#### Inner and Outer"
   ]
  },
  {
   "cell_type": "code",
   "execution_count": null,
   "metadata": {},
   "outputs": [],
   "source": [
    "import numpy\n",
    "\n",
    "A = list(map(int, input().split()))\n",
    "B = list(map(int, input().split()))\n",
    "\n",
    "A_np = numpy.array(A)\n",
    "B_np = numpy.array(B)\n",
    "\n",
    "print(numpy.inner(A_np, B_np))\n",
    "print(numpy.outer(A_np, B_np))\n",
    "\n"
   ]
  },
  {
   "cell_type": "markdown",
   "metadata": {},
   "source": [
    "#### Polynomials"
   ]
  },
  {
   "cell_type": "code",
   "execution_count": null,
   "metadata": {},
   "outputs": [],
   "source": [
    "import numpy\n",
    "\n",
    "P = list(map(float, input().split()))\n",
    "x = int(input())\n",
    "\n",
    "print(numpy.polyval(P, x))\n"
   ]
  },
  {
   "cell_type": "markdown",
   "metadata": {},
   "source": [
    "#### Linear Algebra"
   ]
  },
  {
   "cell_type": "code",
   "execution_count": null,
   "metadata": {},
   "outputs": [],
   "source": [
    "import numpy\n",
    "\n",
    "N = int(input())\n",
    "\n",
    "A = []\n",
    "\n",
    "for _ in range(N):\n",
    "    row = list(map(float, input().split()))\n",
    "    A.append(row)\n",
    "    \n",
    "A_np = numpy.array(A)\n",
    "\n",
    "print(round(numpy.linalg.det(A), 2))\n",
    "\n"
   ]
  },
  {
   "cell_type": "markdown",
   "metadata": {},
   "source": [
    "#### DefaultDict Tutorial"
   ]
  },
  {
   "cell_type": "code",
   "execution_count": null,
   "metadata": {},
   "outputs": [],
   "source": [
    "from collections import defaultdict \n",
    "diz = defaultdict(list)\n",
    "\n",
    "N, M = tuple(map(int, input().split()))\n",
    "\n",
    "for i in range(1, N+1):\n",
    "    inp = input()\n",
    "    diz[inp].append(i)\n",
    "    \n",
    "for _ in range(M):\n",
    "    inp = input()\n",
    "    if inp in diz.keys():\n",
    "        print(*diz[inp])\n",
    "    else:\n",
    "        print(-1)\n"
   ]
  },
  {
   "cell_type": "markdown",
   "metadata": {},
   "source": [
    "#### Collections.namedtuple()"
   ]
  },
  {
   "cell_type": "code",
   "execution_count": null,
   "metadata": {},
   "outputs": [],
   "source": [
    "N = int(input())\n",
    "cols = input().split()\n",
    "\n",
    "marks=[]\n",
    "for _ in range(N):\n",
    "    marks.append(int(input().split()[cols.index('MARKS')]))\n",
    "\n",
    "print(sum(marks)/len(marks))\n"
   ]
  },
  {
   "cell_type": "markdown",
   "metadata": {},
   "source": [
    "#### Collections.OrderedDict()"
   ]
  },
  {
   "cell_type": "code",
   "execution_count": null,
   "metadata": {},
   "outputs": [],
   "source": [
    "N = int(input())\n",
    "diz={}\n",
    "\n",
    "for i in range(N):\n",
    "    inp = input().split()\n",
    "    item = \" \".join(inp[:-1])\n",
    "    price = int(inp[-1])\n",
    "    diz[item] = price+diz.get(item, 0)\n",
    "\n",
    "for k, v in diz.items():\n",
    "    print(k, v)\n"
   ]
  },
  {
   "cell_type": "markdown",
   "metadata": {},
   "source": [
    "#### Word Order"
   ]
  },
  {
   "cell_type": "code",
   "execution_count": null,
   "metadata": {},
   "outputs": [],
   "source": [
    "diz={}\n",
    "N = int(input())\n",
    "\n",
    "for _ in range(N):\n",
    "    word = input()\n",
    "    diz[word] = diz.get(word, 0)+1\n",
    "print(len(diz))\n",
    "\n",
    "str_values = [str(x) for x in diz.values()]\n",
    "res = \" \".join(str_values)\n",
    "\n",
    "print(res)\n"
   ]
  },
  {
   "cell_type": "markdown",
   "metadata": {},
   "source": [
    "#### Collections.deque()"
   ]
  },
  {
   "cell_type": "code",
   "execution_count": null,
   "metadata": {},
   "outputs": [],
   "source": [
    "from collections import deque\n",
    "\n",
    "d = deque()\n",
    "\n",
    "N = int(input())\n",
    "\n",
    "for _ in range(N):\n",
    "    method, *index = input().split()\n",
    "    getattr(d, method)(*index)  \n",
    "      \n",
    "print(*d, sep=' ')\n"
   ]
  },
  {
   "cell_type": "markdown",
   "metadata": {},
   "source": [
    "#### Company Logo"
   ]
  },
  {
   "cell_type": "code",
   "execution_count": null,
   "metadata": {},
   "outputs": [],
   "source": [
    "#!/bin/python3\n",
    "\n",
    "import math\n",
    "import os\n",
    "import random\n",
    "import re\n",
    "import sys\n",
    "\n",
    "s = input()\n",
    "diz={}\n",
    "\n",
    "for c in s:\n",
    "    if c in diz:\n",
    "        diz[c]+=1\n",
    "    else:\n",
    "        diz[c]=1\n",
    "\n",
    "diz_sort = sorted(diz, key=lambda x: (-diz[x],x))\n",
    "\n",
    "for c in diz_sort[:3]:\n",
    "    print(c, diz[c])\n",
    "\n"
   ]
  },
  {
   "cell_type": "markdown",
   "metadata": {},
   "source": [
    "#### Lists"
   ]
  },
  {
   "cell_type": "code",
   "execution_count": null,
   "metadata": {},
   "outputs": [],
   "source": [
    "N = int(input())\n",
    "\n",
    "l = []\n",
    "\n",
    "for _ in range(N):\n",
    "    string = input().split()\n",
    "    method = string[0]\n",
    "    if method==\"print\":\n",
    "        print(l)\n",
    "    else:\n",
    "        method+=\"(\"+\",\".join(string[1:])+\")\"\n",
    "        eval(\"l.\"+method)\n",
    "    \n"
   ]
  },
  {
   "cell_type": "markdown",
   "metadata": {},
   "source": [
    "#### Tuples "
   ]
  },
  {
   "cell_type": "code",
   "execution_count": null,
   "metadata": {},
   "outputs": [],
   "source": [
    "if __name__ == '__main__':\n",
    "    n = int(input())\n",
    "    int_list = input().split()\n",
    "    t = tuple(map(int, int_list))\n",
    "    print(hash(t))\n"
   ]
  },
  {
   "cell_type": "markdown",
   "metadata": {},
   "source": [
    "#### Text Wrap"
   ]
  },
  {
   "cell_type": "code",
   "execution_count": null,
   "metadata": {},
   "outputs": [],
   "source": [
    "\n",
    "\n",
    "def wrap(string, max_width):\n",
    "    l=[]\n",
    "    for i in range(0,len(string),max_width):\n",
    "        l.append(string[i:i+max_width])\n",
    "    res=\"\\n\".join(l)\n",
    "    return res       \n",
    "\n"
   ]
  },
  {
   "cell_type": "markdown",
   "metadata": {},
   "source": [
    "#### Designer Door Mat"
   ]
  },
  {
   "cell_type": "code",
   "execution_count": null,
   "metadata": {},
   "outputs": [],
   "source": [
    "N, M = map(int, input().split())\n",
    "for n in range(N//2):\n",
    "    print(('.|.'* (2*n + 1)).center(M, '-'))\n",
    "print('WELCOME'.center(M, '-'))\n",
    "for n in reversed(range(N//2)):\n",
    "    print(('.|.'* (2*n + 1)).center(M, '-'))\n"
   ]
  },
  {
   "cell_type": "markdown",
   "metadata": {},
   "source": [
    "#### String Formatting"
   ]
  },
  {
   "cell_type": "code",
   "execution_count": null,
   "metadata": {},
   "outputs": [],
   "source": [
    "def print_formatted(number):\n",
    "    n_length = len(bin(n)[2:])\n",
    "    for i in range (1, (n+1)):\n",
    "            octa = str(oct(i))[2:]\n",
    "            hexa = str(hex(i))[2:].upper()\n",
    "            bina = str(bin(i))[2:]\n",
    "            print( str(i).rjust(n_length), octa.rjust(n_length), hexa.rjust(n_length), bina.rjust(n_length))\n",
    "\n",
    "    \n"
   ]
  },
  {
   "cell_type": "markdown",
   "metadata": {},
   "source": [
    "#### Capitalize!"
   ]
  },
  {
   "cell_type": "code",
   "execution_count": null,
   "metadata": {},
   "outputs": [],
   "source": [
    "\n",
    "\n",
    "# Complete the solve function below.\n",
    "def solve(s):\n",
    "    words = s.split(\" \")\n",
    "    res=[]\n",
    "    for w in words:\n",
    "        res.append(w.capitalize())\n",
    "    return \" \".join(res)\n"
   ]
  },
  {
   "cell_type": "markdown",
   "metadata": {},
   "source": [
    "#### The Minion Game"
   ]
  },
  {
   "cell_type": "code",
   "execution_count": null,
   "metadata": {},
   "outputs": [],
   "source": [
    "def minion_game(string):\n",
    "    k = 0\n",
    "    vowels = \"AEIOU\"\n",
    "    for i in range(len(string)):\n",
    "        if string[i] in vowels:\n",
    "            k+=len(string)-i\n",
    "    \n",
    "    s=int(len(string)*(len(string)+1)/2)-k\n",
    "    \n",
    "    if s>k: \n",
    "        print('Stuart', s)\n",
    "        return\n",
    "    elif k > s:\n",
    "        print('Kevin', k)\n",
    "    else:\n",
    "        print('Draw')\n",
    "\n"
   ]
  },
  {
   "cell_type": "markdown",
   "metadata": {},
   "source": [
    "#### Merge the Tools!"
   ]
  },
  {
   "cell_type": "code",
   "execution_count": null,
   "metadata": {},
   "outputs": [],
   "source": [
    "def merge_the_tools(string, k):\n",
    "    for i in range(0, len(string), k):\n",
    "        res=''\n",
    "        for j in range(i, i+k):\n",
    "            if string[j] not in res:\n",
    "                res+=string[j]\n",
    "        print(res)\n",
    "\n"
   ]
  },
  {
   "cell_type": "markdown",
   "metadata": {},
   "source": [
    "#### Introduction to Sets"
   ]
  },
  {
   "cell_type": "code",
   "execution_count": null,
   "metadata": {},
   "outputs": [],
   "source": [
    "def average(array):\n",
    "    array = set(array)\n",
    "    res = round(sum(array)/len(array),3)\n",
    "    return res\n",
    "\n"
   ]
  },
  {
   "cell_type": "markdown",
   "metadata": {},
   "source": [
    "#### Symmetric Difference"
   ]
  },
  {
   "cell_type": "code",
   "execution_count": null,
   "metadata": {},
   "outputs": [],
   "source": [
    "\n",
    "M=int(input())\n",
    "inp = input().split()\n",
    "a=set(list(map(int, inp)))\n",
    "\n",
    "N=int(input())\n",
    "inp = input().split()\n",
    "b=set(list(map(int, inp)))\n",
    "\n",
    "for x in sorted(a^b):\n",
    "    print(x)\n"
   ]
  },
  {
   "cell_type": "markdown",
   "metadata": {},
   "source": [
    "#### No Idea!"
   ]
  },
  {
   "cell_type": "code",
   "execution_count": null,
   "metadata": {},
   "outputs": [],
   "source": [
    "res=0\n",
    "n_m = input().split()\n",
    "array = input().split()\n",
    "A = set(input().split())\n",
    "B = set(input().split())\n",
    "for el in array:\n",
    "    if el in A: \n",
    "        res+=1\n",
    "    if el in B: \n",
    "        res-=1\n",
    "print(res)\n"
   ]
  },
  {
   "cell_type": "markdown",
   "metadata": {},
   "source": [
    "#### Set .add() "
   ]
  },
  {
   "cell_type": "code",
   "execution_count": null,
   "metadata": {},
   "outputs": [],
   "source": [
    "s = set()\n",
    "n=int(input())\n",
    "for i in range(n):\n",
    "    el=input()\n",
    "    s.add(el)\n",
    "print(len(s))\n"
   ]
  },
  {
   "cell_type": "markdown",
   "metadata": {},
   "source": [
    "#### Set .union() Operation"
   ]
  },
  {
   "cell_type": "code",
   "execution_count": null,
   "metadata": {},
   "outputs": [],
   "source": [
    "_, A = input(), set(input().split())\n",
    "_, B = input(), set(input().split())\n",
    "print(len(A | B))\n"
   ]
  },
  {
   "cell_type": "markdown",
   "metadata": {},
   "source": [
    "#### Set .intersection() Operation"
   ]
  },
  {
   "cell_type": "code",
   "execution_count": null,
   "metadata": {},
   "outputs": [],
   "source": [
    "_, A = input(), set(input().split())\n",
    "_, B = input(), set(input().split())\n",
    "print(len(A.intersection(B)))\n"
   ]
  },
  {
   "cell_type": "markdown",
   "metadata": {},
   "source": [
    "#### Set .difference() Operation"
   ]
  },
  {
   "cell_type": "code",
   "execution_count": null,
   "metadata": {},
   "outputs": [],
   "source": [
    "_, A = input(), set(input().split())\n",
    "_, B = input(), set(input().split())\n",
    "print(len(A.difference(B)))\n"
   ]
  },
  {
   "cell_type": "markdown",
   "metadata": {},
   "source": [
    "#### Set .symmetric_difference() Operation"
   ]
  },
  {
   "cell_type": "code",
   "execution_count": null,
   "metadata": {},
   "outputs": [],
   "source": [
    "_, A = input(), set(input().split())\n",
    "_, B = input(), set(input().split())\n",
    "print(len(A.symmetric_difference(B)))\n"
   ]
  },
  {
   "cell_type": "markdown",
   "metadata": {},
   "source": [
    "#### Group(), Groups() & Groupdict()"
   ]
  },
  {
   "cell_type": "code",
   "execution_count": null,
   "metadata": {},
   "outputs": [],
   "source": [
    "import re\n",
    "\n",
    "string = input()\n",
    "match = re.search(r\"([a-zA-Z0-9])\\1+\", string)\n",
    "if match:\n",
    "    print(match.group()[0])\n",
    "else:\n",
    "    print(-1)\n"
   ]
  }
 ],
 "metadata": {},
 "nbformat": 4,
 "nbformat_minor": 4
}
